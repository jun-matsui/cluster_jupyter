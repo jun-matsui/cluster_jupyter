{
 "cells": [
  {
   "cell_type": "code",
   "execution_count": 1,
   "id": "8e69e80d",
   "metadata": {},
   "outputs": [
    {
     "name": "stderr",
     "output_type": "stream",
     "text": [
      "Setting default log level to \"WARN\".\n",
      "To adjust logging level use sc.setLogLevel(newLevel). For SparkR, use setLogLevel(newLevel).\n",
      "25/10/23 23:45:55 WARN NativeCodeLoader: Unable to load native-hadoop library for your platform... using builtin-java classes where applicable\n"
     ]
    },
    {
     "name": "stdout",
     "output_type": "stream",
     "text": [
      "Spark Session configurada para MinIO!\n",
      "DataFrame de exemplo criado:\n"
     ]
    },
    {
     "name": "stderr",
     "output_type": "stream",
     "text": [
      "                                                                                "
     ]
    },
    {
     "name": "stdout",
     "output_type": "stream",
     "text": [
      "+-------+---+\n",
      "|   nome| id|\n",
      "+-------+---+\n",
      "|  Alice|  1|\n",
      "|    Bob|  2|\n",
      "|Charlie|  3|\n",
      "+-------+---+\n",
      "\n",
      "Escrevendo dados em: s3a://database/meus_dados_parquet\n"
     ]
    },
    {
     "name": "stderr",
     "output_type": "stream",
     "text": [
      "25/10/23 23:46:09 WARN MetricsConfig: Cannot locate configuration: tried hadoop-metrics2-s3a-file-system.properties,hadoop-metrics2.properties\n",
      "                                                                                "
     ]
    },
    {
     "name": "stdout",
     "output_type": "stream",
     "text": [
      "Escrita concluída!\n",
      "Lendo dados de: s3a://database/meus_dados_parquet\n",
      "DataFrame lido do MinIO:\n",
      "+-------+---+\n",
      "|   nome| id|\n",
      "+-------+---+\n",
      "|    Bob|  2|\n",
      "|Charlie|  3|\n",
      "|  Alice|  1|\n",
      "+-------+---+\n",
      "\n"
     ]
    }
   ],
   "source": [
    "from pyspark.sql import SparkSession\n",
    "\n",
    "# Credenciais e endpoint do MinIO\n",
    "MINIO_ENDPOINT = \"http://minio:9000\"\n",
    "MINIO_ACCESS_KEY = \"admin\"\n",
    "MINIO_SECRET_KEY = \"password\"\n",
    "\n",
    "# 1. Configurar a SparkSession para se conectar ao MinIO\n",
    "spark = (\n",
    "    SparkSession.builder\n",
    "    .appName(\"MinIO-Integration-Test\")\n",
    "    .master(\"spark://spark-master:7077\")\n",
    "    # Configurações para o conector S3A\n",
    "    .config(\"spark.hadoop.fs.s3a.endpoint\", MINIO_ENDPOINT)\n",
    "    .config(\"spark.hadoop.fs.s3a.access.key\", MINIO_ACCESS_KEY)\n",
    "    .config(\"spark.hadoop.fs.s3a.secret.key\", MINIO_SECRET_KEY)\n",
    "    .config(\"spark.hadoop.fs.s3a.path.style.access\", \"true\") # Essencial para MinIO\n",
    "    .config(\"spark.hadoop.fs.s3a.impl\", \"org.apache.hadoop.fs.s3a.S3AFileSystem\")\n",
    "    .getOrCreate()\n",
    ")\n",
    "\n",
    "print(\"Spark Session configurada para MinIO!\")\n",
    "\n",
    "# 2. Criar um DataFrame de exemplo\n",
    "data = [(\"Alice\", 1), (\"Bob\", 2), (\"Charlie\", 3)]\n",
    "columns = [\"nome\", \"id\"]\n",
    "df = spark.createDataFrame(data, columns)\n",
    "\n",
    "print(\"DataFrame de exemplo criado:\")\n",
    "df.show()\n",
    "\n",
    "# 3. Escrever o DataFrame no MinIO em formato Parquet\n",
    "# O caminho usa o padrão s3a://<bucket-name>/<path-to-file>\n",
    "bucket_name = \"database\"\n",
    "output_path = f\"s3a://{bucket_name}/meus_dados_parquet\"\n",
    "\n",
    "print(f\"Escrevendo dados em: {output_path}\")\n",
    "df.write.mode(\"overwrite\").parquet(output_path)\n",
    "\n",
    "print(\"Escrita concluída!\")\n",
    "\n",
    "# 4. Ler os dados de volta do MinIO\n",
    "print(f\"Lendo dados de: {output_path}\")\n",
    "df_lido = spark.read.parquet(output_path)\n",
    "\n",
    "print(\"DataFrame lido do MinIO:\")\n",
    "df_lido.show()\n",
    "\n",
    "# Pare a sessão para liberar recursos\n",
    "spark.stop()\n"
   ]
  },
  {
   "cell_type": "code",
   "execution_count": null,
   "id": "909e5264-9aa1-474f-a06e-d80ddcb0cf90",
   "metadata": {},
   "outputs": [],
   "source": []
  }
 ],
 "metadata": {
  "kernelspec": {
   "display_name": "Python 3 (ipykernel)",
   "language": "python",
   "name": "python3"
  },
  "language_info": {
   "codemirror_mode": {
    "name": "ipython",
    "version": 3
   },
   "file_extension": ".py",
   "mimetype": "text/x-python",
   "name": "python",
   "nbconvert_exporter": "python",
   "pygments_lexer": "ipython3",
   "version": "3.10.6"
  }
 },
 "nbformat": 4,
 "nbformat_minor": 5
}
